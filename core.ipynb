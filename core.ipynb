{
  "nbformat": 4,
  "nbformat_minor": 0,
  "metadata": {
    "colab": {
      "provenance": [],
      "gpuType": "T4"
    },
    "kernelspec": {
      "name": "python3",
      "display_name": "Python 3"
    },
    "language_info": {
      "name": "python"
    },
    "accelerator": "GPU"
  },
  "cells": [
    {
      "cell_type": "markdown",
      "source": [
        "#GAN implementation of MNIST dataset"
      ],
      "metadata": {
        "id": "QMZbrWsdOuiK"
      }
    },
    {
      "cell_type": "markdown",
      "source": [
        "##import libraries"
      ],
      "metadata": {
        "id": "JP6du_IrOyDE"
      }
    },
    {
      "cell_type": "code",
      "execution_count": null,
      "metadata": {
        "id": "RksvM4uDOadf"
      },
      "outputs": [],
      "source": [
        "import torch\n",
        "import torch.nn as nn\n",
        "import torch.nn.functional as F\n",
        "import torch.optim as optim\n",
        "from torchvision import datasets, transforms\n",
        "from torch.autograd import Variable"
      ]
    },
    {
      "cell_type": "code",
      "source": [
        "device = torch.device('cuda' if torch.cuda.is_available() else 'cpu')\n",
        "device"
      ],
      "metadata": {
        "colab": {
          "base_uri": "https://localhost:8080/"
        },
        "id": "mMjVmD2acU4I",
        "outputId": "fb880452-be95-4aba-8765-72e50dc0ddfb"
      },
      "execution_count": null,
      "outputs": [
        {
          "output_type": "execute_result",
          "data": {
            "text/plain": [
              "device(type='cuda')"
            ]
          },
          "metadata": {},
          "execution_count": 112
        }
      ]
    },
    {
      "cell_type": "markdown",
      "source": [
        "## load MNIST dataset"
      ],
      "metadata": {
        "id": "sL1Mg4zoRLLA"
      }
    },
    {
      "cell_type": "code",
      "source": [
        "train_loader = torch.utils.data.DataLoader(\n",
        "    datasets.MNIST('../data', train=True, download=True,\n",
        "                   transform=transforms.Compose([\n",
        "                       transforms.ToTensor(),\n",
        "                       transforms.Normalize((0.5,), (0.5,))\n",
        "                   ])),\n",
        "    batch_size=32, shuffle=True)\n",
        "test_loader = torch.utils.data.DataLoader(\n",
        "    datasets.MNIST('../data', train=False, transform=transforms.Compose([\n",
        "                       transforms.ToTensor(),\n",
        "                       transforms.Normalize((0.5,), (0.5,))\n",
        "                   ])),\n",
        "    batch_size=32, shuffle=True)"
      ],
      "metadata": {
        "id": "AwYW9SC5PSqR"
      },
      "execution_count": null,
      "outputs": []
    },
    {
      "cell_type": "code",
      "source": [
        "for batch_idx, (data, target) in enumerate(train_loader):\n",
        "  print(batch_idx, data.shape, data, target)\n",
        "  break"
      ],
      "metadata": {
        "colab": {
          "base_uri": "https://localhost:8080/"
        },
        "id": "YvSndWs3QEFx",
        "outputId": "da678aeb-b322-46c8-8d6e-6d5bfbe6c3db"
      },
      "execution_count": null,
      "outputs": [
        {
          "output_type": "stream",
          "name": "stdout",
          "text": [
            "0 torch.Size([32, 1, 28, 28]) tensor([[[[-1., -1., -1.,  ..., -1., -1., -1.],\n",
            "          [-1., -1., -1.,  ..., -1., -1., -1.],\n",
            "          [-1., -1., -1.,  ..., -1., -1., -1.],\n",
            "          ...,\n",
            "          [-1., -1., -1.,  ..., -1., -1., -1.],\n",
            "          [-1., -1., -1.,  ..., -1., -1., -1.],\n",
            "          [-1., -1., -1.,  ..., -1., -1., -1.]]],\n",
            "\n",
            "\n",
            "        [[[-1., -1., -1.,  ..., -1., -1., -1.],\n",
            "          [-1., -1., -1.,  ..., -1., -1., -1.],\n",
            "          [-1., -1., -1.,  ..., -1., -1., -1.],\n",
            "          ...,\n",
            "          [-1., -1., -1.,  ..., -1., -1., -1.],\n",
            "          [-1., -1., -1.,  ..., -1., -1., -1.],\n",
            "          [-1., -1., -1.,  ..., -1., -1., -1.]]],\n",
            "\n",
            "\n",
            "        [[[-1., -1., -1.,  ..., -1., -1., -1.],\n",
            "          [-1., -1., -1.,  ..., -1., -1., -1.],\n",
            "          [-1., -1., -1.,  ..., -1., -1., -1.],\n",
            "          ...,\n",
            "          [-1., -1., -1.,  ..., -1., -1., -1.],\n",
            "          [-1., -1., -1.,  ..., -1., -1., -1.],\n",
            "          [-1., -1., -1.,  ..., -1., -1., -1.]]],\n",
            "\n",
            "\n",
            "        ...,\n",
            "\n",
            "\n",
            "        [[[-1., -1., -1.,  ..., -1., -1., -1.],\n",
            "          [-1., -1., -1.,  ..., -1., -1., -1.],\n",
            "          [-1., -1., -1.,  ..., -1., -1., -1.],\n",
            "          ...,\n",
            "          [-1., -1., -1.,  ..., -1., -1., -1.],\n",
            "          [-1., -1., -1.,  ..., -1., -1., -1.],\n",
            "          [-1., -1., -1.,  ..., -1., -1., -1.]]],\n",
            "\n",
            "\n",
            "        [[[-1., -1., -1.,  ..., -1., -1., -1.],\n",
            "          [-1., -1., -1.,  ..., -1., -1., -1.],\n",
            "          [-1., -1., -1.,  ..., -1., -1., -1.],\n",
            "          ...,\n",
            "          [-1., -1., -1.,  ..., -1., -1., -1.],\n",
            "          [-1., -1., -1.,  ..., -1., -1., -1.],\n",
            "          [-1., -1., -1.,  ..., -1., -1., -1.]]],\n",
            "\n",
            "\n",
            "        [[[-1., -1., -1.,  ..., -1., -1., -1.],\n",
            "          [-1., -1., -1.,  ..., -1., -1., -1.],\n",
            "          [-1., -1., -1.,  ..., -1., -1., -1.],\n",
            "          ...,\n",
            "          [-1., -1., -1.,  ..., -1., -1., -1.],\n",
            "          [-1., -1., -1.,  ..., -1., -1., -1.],\n",
            "          [-1., -1., -1.,  ..., -1., -1., -1.]]]]) tensor([8, 5, 0, 1, 6, 1, 9, 9, 1, 2, 8, 9, 1, 9, 1, 8, 1, 4, 6, 7, 7, 3, 4, 4,\n",
            "        5, 5, 7, 8, 5, 5, 3, 7])\n"
          ]
        }
      ]
    },
    {
      "cell_type": "markdown",
      "source": [
        "##implement a function to plot picures"
      ],
      "metadata": {
        "id": "zutbJoU6UAyV"
      }
    },
    {
      "cell_type": "code",
      "source": [
        "batch_idx, (pictures, labels) = next(enumerate(train_loader))\n",
        "pictures.shape\n",
        "# pictures"
      ],
      "metadata": {
        "colab": {
          "base_uri": "https://localhost:8080/"
        },
        "id": "FZy1KNlSUI0Q",
        "outputId": "df1a955d-1b37-4e3f-9843-8a6b38ece378"
      },
      "execution_count": null,
      "outputs": [
        {
          "output_type": "execute_result",
          "data": {
            "text/plain": [
              "torch.Size([32, 1, 28, 28])"
            ]
          },
          "metadata": {},
          "execution_count": 115
        }
      ]
    },
    {
      "cell_type": "code",
      "source": [
        "import matplotlib.pyplot as plt\n",
        "\n",
        "def plot_picture(picture, title=\"\"):\n",
        "  fig = plt.figure()\n",
        "  plt.tight_layout()\n",
        "  plt.imshow(picture, cmap='gray', interpolation='none')\n",
        "  plt.title(title)\n",
        "  plt.xticks([])\n",
        "  plt.yticks([])"
      ],
      "metadata": {
        "id": "ZCLGAgO4UiJY"
      },
      "execution_count": null,
      "outputs": []
    },
    {
      "cell_type": "code",
      "source": [
        "plot_picture(pictures[1][0], f\"Just another random picture with label: {labels[1]}\")"
      ],
      "metadata": {
        "colab": {
          "base_uri": "https://localhost:8080/",
          "height": 428
        },
        "id": "iifCf2IJWgJQ",
        "outputId": "dde20ea0-fdf5-4c65-9f24-c59a8bd2ebc5"
      },
      "execution_count": null,
      "outputs": [
        {
          "output_type": "display_data",
          "data": {
            "text/plain": [
              "<Figure size 640x480 with 1 Axes>"
            ],
            "image/png": "[encoded data removed]"
          },
          "metadata": {}
        }
      ]
    },
    {
      "cell_type": "markdown",
      "source": [
        "##model"
      ],
      "metadata": {
        "id": "9BcaG_vbaFZX"
      }
    },
    {
      "cell_type": "markdown",
      "source": [
        "###Generator"
      ],
      "metadata": {
        "id": "5IGWI7kMuAnJ"
      }
    },
    {
      "cell_type": "code",
      "source": [
        "class Generator(nn.Module):\n",
        "    def __init__(self, in_features = 100, out_features= 28*28):\n",
        "        super().__init__()\n",
        "\n",
        "        self.layer1 = nn.Sequential(\n",
        "            nn.Linear(in_features, 256),\n",
        "            nn.BatchNorm1d(256),\n",
        "            nn.ReLU()\n",
        "        )\n",
        "        self.layer2 = nn.Sequential(\n",
        "            nn.Linear(256, 512),\n",
        "            nn.BatchNorm1d(512),\n",
        "            nn.ReLU()\n",
        "        )\n",
        "        self.layer3 = nn.Sequential(\n",
        "            nn.Linear(512, 1024),\n",
        "            nn.BatchNorm1d(1024),\n",
        "            nn.ReLU()\n",
        "        )\n",
        "        self.out = nn.Sequential(\n",
        "            nn.Linear(1024, out_features),\n",
        "            nn.Tanh()\n",
        "        )\n",
        "\n",
        "    def forward(self, x):\n",
        "        x = self.layer1(x)\n",
        "        x = self.layer2(x)\n",
        "        x = self.layer3(x)\n",
        "        x = self.out(x)\n",
        "        x = x.view(x.size(0), 1, 28, 28)\n",
        "        return x"
      ],
      "metadata": {
        "id": "LdXcj6sHaHr1"
      },
      "execution_count": null,
      "outputs": []
    },
    {
      "cell_type": "markdown",
      "source": [
        "###discriminator"
      ],
      "metadata": {
        "id": "WP8PzQOsuDSg"
      }
    },
    {
      "cell_type": "code",
      "source": [
        "class Discriminator(nn.Module):\n",
        "    def __init__(self, in_features=28*28, out_features=1):\n",
        "        super().__init__()\n",
        "\n",
        "        self.layer1 = nn.Sequential(\n",
        "            nn.Linear(in_features, 1024),\n",
        "            nn.LeakyReLU(0.2),\n",
        "        )\n",
        "        self.layer2 = nn.Sequential(\n",
        "            nn.Linear(1024, 512),\n",
        "            nn.LeakyReLU(0.2)\n",
        "        )\n",
        "        self.layer3 = nn.Sequential(\n",
        "            nn.Linear(512, 256),\n",
        "            nn.LeakyReLU(0.2)\n",
        "        )\n",
        "        self.out = nn.Sequential(\n",
        "            torch.nn.Linear(256, out_features),\n",
        "            nn.Sigmoid()\n",
        "        )\n",
        "\n",
        "    def forward(self, x):\n",
        "        x = x.view(x.size(0), -1)\n",
        "        x = self.layer1(x)\n",
        "        x = self.layer2(x)\n",
        "        x = self.layer3(x)\n",
        "        x = self.out(x)\n",
        "        return x"
      ],
      "metadata": {
        "id": "uAiuPiU3uFSD"
      },
      "execution_count": null,
      "outputs": []
    },
    {
      "cell_type": "markdown",
      "source": [
        "###model"
      ],
      "metadata": {
        "id": "8IBkbmfTuFmz"
      }
    },
    {
      "cell_type": "code",
      "source": [
        "generator = Generator().to(device)\n",
        "discriminator = Discriminator().to(device)\n",
        "print(generator)\n",
        "print(discriminator)"
      ],
      "metadata": {
        "colab": {
          "base_uri": "https://localhost:8080/"
        },
        "id": "B5s9UINHqdwU",
        "outputId": "6481c878-5db8-4022-e33c-3e4effc61c81"
      },
      "execution_count": null,
      "outputs": [
        {
          "output_type": "stream",
          "name": "stdout",
          "text": [
            "Generator(\n",
            "  (layer1): Sequential(\n",
            "    (0): Linear(in_features=100, out_features=256, bias=True)\n",
            "    (1): BatchNorm1d(256, eps=1e-05, momentum=0.1, affine=True, track_running_stats=True)\n",
            "    (2): ReLU()\n",
            "  )\n",
            "  (layer2): Sequential(\n",
            "    (0): Linear(in_features=256, out_features=512, bias=True)\n",
            "    (1): BatchNorm1d(512, eps=1e-05, momentum=0.1, affine=True, track_running_stats=True)\n",
            "    (2): ReLU()\n",
            "  )\n",
            "  (layer3): Sequential(\n",
            "    (0): Linear(in_features=512, out_features=1024, bias=True)\n",
            "    (1): BatchNorm1d(1024, eps=1e-05, momentum=0.1, affine=True, track_running_stats=True)\n",
            "    (2): ReLU()\n",
            "  )\n",
            "  (out): Sequential(\n",
            "    (0): Linear(in_features=1024, out_features=784, bias=True)\n",
            "    (1): Tanh()\n",
            "  )\n",
            ")\n",
            "Discriminator(\n",
            "  (layer1): Sequential(\n",
            "    (0): Linear(in_features=784, out_features=1024, bias=True)\n",
            "    (1): LeakyReLU(negative_slope=0.2)\n",
            "  )\n",
            "  (layer2): Sequential(\n",
            "    (0): Linear(in_features=1024, out_features=512, bias=True)\n",
            "    (1): LeakyReLU(negative_slope=0.2)\n",
            "  )\n",
            "  (layer3): Sequential(\n",
            "    (0): Linear(in_features=512, out_features=256, bias=True)\n",
            "    (1): LeakyReLU(negative_slope=0.2)\n",
            "  )\n",
            "  (out): Sequential(\n",
            "    (0): Linear(in_features=256, out_features=1, bias=True)\n",
            "    (1): Sigmoid()\n",
            "  )\n",
            ")\n"
          ]
        }
      ]
    },
    {
      "cell_type": "code",
      "source": [
        "num_params = sum(p.numel() for p in generator.parameters() if p.requires_grad)\n",
        "print(f'Number of parameters for generator: {num_params}')\n",
        "num_params = sum(p.numel() for p in discriminator.parameters() if p.requires_grad)\n",
        "print(f'Number of parameters for discriminator: {num_params}')"
      ],
      "metadata": {
        "id": "jF4Xo24kpxFq",
        "colab": {
          "base_uri": "https://localhost:8080/"
        },
        "outputId": "e3b44fab-124c-48c4-d4ce-e3761ffcb9c8"
      },
      "execution_count": null,
      "outputs": [
        {
          "output_type": "stream",
          "name": "stdout",
          "text": [
            "Number of parameters for generator: 1489936\n",
            "Number of parameters for discriminator: 1460225\n"
          ]
        }
      ]
    },
    {
      "cell_type": "code",
      "source": [
        "criterion = nn.BCELoss()\n",
        "\n",
        "lr = 0.0002\n",
        "beta1 = 0.5\n",
        "optimizer_g = optim.Adam(generator.parameters(), lr=lr, betas=(beta1, 0.999))\n",
        "optimizer_d = optim.Adam(discriminator.parameters(), lr=lr, betas=(beta1, 0.999))\n",
        "\n",
        "print(optimizer_g)\n",
        "print(optimizer_d)"
      ],
      "metadata": {
        "colab": {
          "base_uri": "https://localhost:8080/"
        },
        "id": "tyUWFoOVpziV",
        "outputId": "3fc966f1-3ebe-4176-b416-5380044ebd86"
      },
      "execution_count": null,
      "outputs": [
        {
          "output_type": "stream",
          "name": "stdout",
          "text": [
            "Adam (\n",
            "Parameter Group 0\n",
            "    amsgrad: False\n",
            "    betas: (0.5, 0.999)\n",
            "    capturable: False\n",
            "    differentiable: False\n",
            "    eps: 1e-08\n",
            "    foreach: None\n",
            "    fused: None\n",
            "    lr: 0.0002\n",
            "    maximize: False\n",
            "    weight_decay: 0\n",
            ")\n",
            "Adam (\n",
            "Parameter Group 0\n",
            "    amsgrad: False\n",
            "    betas: (0.5, 0.999)\n",
            "    capturable: False\n",
            "    differentiable: False\n",
            "    eps: 1e-08\n",
            "    foreach: None\n",
            "    fused: None\n",
            "    lr: 0.0002\n",
            "    maximize: False\n",
            "    weight_decay: 0\n",
            ")\n"
          ]
        }
      ]
    },
    {
      "cell_type": "markdown",
      "source": [
        "###learning model"
      ],
      "metadata": {
        "id": "-SjrsE5FnA56"
      }
    },
    {
      "cell_type": "code",
      "source": [
        "num_epochs = 30\n",
        "total_step = len(train_loader)\n",
        "\n",
        "for epoch in range(num_epochs):\n",
        "  for i, (pictures, labels) in enumerate(train_loader):\n",
        "    # labels for training\n",
        "    real_labels = torch.ones(32, 1).to(device)\n",
        "    fake_labels = torch.zeros(32, 1).to(device)\n",
        "\n",
        "    # train discriminator with real pictures from dataset\n",
        "    optimizer_d.zero_grad()\n",
        "    pictures = pictures.to(device)\n",
        "    outputs = discriminator(pictures)\n",
        "    d_loss_real = criterion(outputs, real_labels)\n",
        "    real_score = outputs\n",
        "\n",
        "    # train discriminator with fake pictures from generator\n",
        "    noise = torch.randn(32, 100).to(device)\n",
        "    fake_pictures = generator(noise)\n",
        "    outputs = discriminator(fake_pictures)\n",
        "    d_loss_fake = criterion(outputs, fake_labels)\n",
        "    fake_score = outputs\n",
        "\n",
        "    d_loss = d_loss_real + d_loss_fake\n",
        "    d_loss.backward()\n",
        "    optimizer_d.step()\n",
        "\n",
        "    # train generator\n",
        "    optimizer_g.zero_grad()\n",
        "    noise = torch.randn(32, 100).to(device)\n",
        "    fake_pictures = generator(noise)\n",
        "    outputs = discriminator(fake_pictures)\n",
        "\n",
        "    g_loss = criterion(outputs, real_labels)\n",
        "    g_loss.backward()\n",
        "    optimizer_g.step()\n",
        "\n",
        "    # print(f\"epoch: {epoch}/{num_epochs}, batch: {i}/{len(train_loader)}, g_loss: {g_loss.item():.4f}, d_loss: {d_loss.item():.4f}, D(x): {real_score.mean().item():.4f}, D(G(z)): {fake_score.mean().item():.4f}\")\n",
        "\n",
        "  print(f\"epoch: {epoch+1}/{num_epochs}, g_loss: {g_loss.item():.4f}, d_loss: {d_loss.item():.4f}, D(x): {real_score.mean().item():.4f}, D(G(z)): {fake_score.mean().item():.4f}\")\n",
        "\n",
        "  # Save sampled images\n",
        "  # if (epoch + 1) % 100 == 0:\n",
        "  #     save_images(epoch + 1)\n"
      ],
      "metadata": {
        "colab": {
          "base_uri": "https://localhost:8080/"
        },
        "id": "_fWw396Xn69P",
        "outputId": "4b9578ac-b8ec-496b-99e2-62a483d092b5"
      },
      "execution_count": null,
      "outputs": [
        {
          "output_type": "stream",
          "name": "stdout",
          "text": [
            "epoch: 1/30, g_loss: 1.3424, d_loss: 0.7567, D(x): 0.6704, D(G(z)): 0.2316\n",
            "epoch: 2/30, g_loss: 2.0499, d_loss: 0.9121, D(x): 0.8142, D(G(z)): 0.4546\n",
            "epoch: 3/30, g_loss: 0.9157, d_loss: 0.8445, D(x): 0.6390, D(G(z)): 0.2770\n",
            "epoch: 4/30, g_loss: 1.1466, d_loss: 1.1733, D(x): 0.5479, D(G(z)): 0.3599\n",
            "epoch: 5/30, g_loss: 1.0314, d_loss: 1.0728, D(x): 0.6660, D(G(z)): 0.4296\n",
            "epoch: 6/30, g_loss: 1.1283, d_loss: 1.0785, D(x): 0.6717, D(G(z)): 0.4572\n",
            "epoch: 7/30, g_loss: 0.9295, d_loss: 1.1525, D(x): 0.5395, D(G(z)): 0.3489\n",
            "epoch: 8/30, g_loss: 1.1935, d_loss: 0.9974, D(x): 0.7019, D(G(z)): 0.4111\n",
            "epoch: 9/30, g_loss: 0.7417, d_loss: 1.1377, D(x): 0.7064, D(G(z)): 0.5017\n",
            "epoch: 10/30, g_loss: 0.7644, d_loss: 1.3029, D(x): 0.5384, D(G(z)): 0.4273\n",
            "epoch: 11/30, g_loss: 1.2689, d_loss: 1.0953, D(x): 0.6576, D(G(z)): 0.4279\n",
            "epoch: 12/30, g_loss: 1.0526, d_loss: 1.1330, D(x): 0.5637, D(G(z)): 0.3791\n",
            "epoch: 13/30, g_loss: 1.3480, d_loss: 1.4108, D(x): 0.6497, D(G(z)): 0.5385\n",
            "epoch: 14/30, g_loss: 0.9016, d_loss: 1.0342, D(x): 0.6088, D(G(z)): 0.3531\n",
            "epoch: 15/30, g_loss: 1.4410, d_loss: 1.1442, D(x): 0.6537, D(G(z)): 0.4288\n",
            "epoch: 16/30, g_loss: 1.3269, d_loss: 1.1828, D(x): 0.5818, D(G(z)): 0.4046\n",
            "epoch: 17/30, g_loss: 1.0928, d_loss: 1.1322, D(x): 0.5856, D(G(z)): 0.3770\n",
            "epoch: 18/30, g_loss: 0.9426, d_loss: 1.1961, D(x): 0.5474, D(G(z)): 0.3945\n",
            "epoch: 19/30, g_loss: 1.0736, d_loss: 1.1031, D(x): 0.5210, D(G(z)): 0.3089\n",
            "epoch: 20/30, g_loss: 1.0944, d_loss: 1.1503, D(x): 0.6417, D(G(z)): 0.4155\n",
            "epoch: 21/30, g_loss: 1.1372, d_loss: 0.9487, D(x): 0.6491, D(G(z)): 0.3626\n",
            "epoch: 22/30, g_loss: 1.1704, d_loss: 1.0942, D(x): 0.6258, D(G(z)): 0.4261\n",
            "epoch: 23/30, g_loss: 1.1245, d_loss: 1.1043, D(x): 0.6038, D(G(z)): 0.3882\n",
            "epoch: 24/30, g_loss: 1.0974, d_loss: 1.3422, D(x): 0.5826, D(G(z)): 0.4823\n",
            "epoch: 25/30, g_loss: 1.3668, d_loss: 1.2209, D(x): 0.5145, D(G(z)): 0.3160\n",
            "epoch: 26/30, g_loss: 1.0856, d_loss: 1.0316, D(x): 0.5886, D(G(z)): 0.3299\n",
            "epoch: 27/30, g_loss: 0.9556, d_loss: 1.2474, D(x): 0.6136, D(G(z)): 0.4689\n",
            "epoch: 28/30, g_loss: 1.3950, d_loss: 1.1043, D(x): 0.6142, D(G(z)): 0.3622\n",
            "epoch: 29/30, g_loss: 1.0736, d_loss: 1.2628, D(x): 0.5594, D(G(z)): 0.4315\n",
            "epoch: 30/30, g_loss: 1.1890, d_loss: 1.1374, D(x): 0.6241, D(G(z)): 0.4305\n"
          ]
        }
      ]
    },
    {
      "cell_type": "code",
      "source": [
        "noise = torch.randn(10, 100).to(device)\n",
        "fake_pictures = generator(noise)\n",
        "fake_pictures = fake_pictures.reshape(fake_pictures.size(0), 1, 28, 28)\n",
        "fake_pictures = fake_pictures.cpu().detach().numpy()\n",
        "for fake_picture in fake_pictures:\n",
        "  plot_picture(fake_picture[0])\n"
      ],
      "metadata": {
        "colab": {
          "base_uri": "https://localhost:8080/",
          "height": 1000
        },
        "id": "P1QEN-PJd1iT",
        "outputId": "df67eee2-7f16-4009-d74f-aa2737a6a209"
      },
      "execution_count": null,
      "outputs": [
        {
          "output_type": "display_data",
          "data": {
            "text/plain": [
              "<Figure size 640x480 with 1 Axes>"
            ],
            "image/png": "[encoded data removed]"
          },
          "metadata": {}
        },
        {
          "output_type": "display_data",
          "data": {
            "text/plain": [
              "<Figure size 640x480 with 1 Axes>"
            ],
            "image/png": "[encoded data removed]"
          },
          "metadata": {}
        },
        {
          "output_type": "display_data",
          "data": {
            "text/plain": [
              "<Figure size 640x480 with 1 Axes>"
            ],
            "image/png": "[encoded data removed]"
          },
          "metadata": {}
        },
        {
          "output_type": "display_data",
          "data": {
            "text/plain": [
              "<Figure size 640x480 with 1 Axes>"
            ],
            "image/png": "[encoded data removed]"
          },
          "metadata": {}
        },
        {
          "output_type": "display_data",
          "data": {
            "text/plain": [
              "<Figure size 640x480 with 1 Axes>"
            ],
            "image/png": "[encoded data removed]"
          },
          "metadata": {}
        },
        {
          "output_type": "display_data",
          "data": {
            "text/plain": [
              "<Figure size 640x480 with 1 Axes>"
            ],
            "image/png": "[encoded data removed]"
          },
          "metadata": {}
        },
        {
          "output_type": "display_data",
          "data": {
            "text/plain": [
              "<Figure size 640x480 with 1 Axes>"
            ],
            "image/png": "[encoded data removed]"
          },
          "metadata": {}
        },
        {
          "output_type": "display_data",
          "data": {
            "text/plain": [
              "<Figure size 640x480 with 1 Axes>"
            ],
            "image/png": "[encoded data removed]"
          },
          "metadata": {}
        },
        {
          "output_type": "display_data",
          "data": {
            "text/plain": [
              "<Figure size 640x480 with 1 Axes>"
            ],
            "image/png": "[encoded data removed]"
          },
          "metadata": {}
        },
        {
          "output_type": "display_data",
          "data": {
            "text/plain": [
              "<Figure size 640x480 with 1 Axes>"
            ],
            "image/png": "[encoded data removed]"
          },
          "metadata": {}
        }
      ]
    }
  ]
}